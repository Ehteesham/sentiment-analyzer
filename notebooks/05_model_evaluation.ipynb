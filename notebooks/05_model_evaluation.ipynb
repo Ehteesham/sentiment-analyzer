{
 "cells": [
  {
   "cell_type": "code",
   "execution_count": 1,
   "metadata": {},
   "outputs": [],
   "source": [
    "import os"
   ]
  },
  {
   "cell_type": "code",
   "execution_count": 2,
   "metadata": {},
   "outputs": [
    {
     "data": {
      "text/plain": [
       "'d:\\\\CDAC\\\\Machine Learning\\\\sentiment-analyzer\\\\notebooks'"
      ]
     },
     "execution_count": 2,
     "metadata": {},
     "output_type": "execute_result"
    }
   ],
   "source": [
    "%pwd"
   ]
  },
  {
   "cell_type": "code",
   "execution_count": 3,
   "metadata": {},
   "outputs": [],
   "source": [
    "os.chdir('../')"
   ]
  },
  {
   "cell_type": "code",
   "execution_count": 4,
   "metadata": {},
   "outputs": [
    {
     "data": {
      "text/plain": [
       "'d:\\\\CDAC\\\\Machine Learning\\\\sentiment-analyzer'"
      ]
     },
     "execution_count": 4,
     "metadata": {},
     "output_type": "execute_result"
    }
   ],
   "source": [
    "%pwd"
   ]
  },
  {
   "cell_type": "code",
   "execution_count": 6,
   "metadata": {},
   "outputs": [],
   "source": [
    "from dataclasses import dataclass\n",
    "from pathlib import Path"
   ]
  },
  {
   "cell_type": "code",
   "execution_count": 7,
   "metadata": {},
   "outputs": [],
   "source": [
    "@dataclass(frozen=True)\n",
    "class ModelEvaluationConfig:\n",
    "    root_dir: Path\n",
    "    test_transformed_dir: Path\n",
    "    model_dir: Path\n",
    "    evaluation_saved: Path"
   ]
  },
  {
   "cell_type": "code",
   "execution_count": 8,
   "metadata": {},
   "outputs": [],
   "source": [
    "from sentimentAnalyzer.constant import *\n",
    "from sentimentAnalyzer.utils.common import read_yaml, create_directories"
   ]
  },
  {
   "cell_type": "code",
   "execution_count": 15,
   "metadata": {},
   "outputs": [],
   "source": [
    "class ConfigurationManager:\n",
    "    def __init__(self, config_path = CONFIG_FILE_PATH, params_path = PARAMS_FILE_PATH):\n",
    "        self.config = read_yaml(config_path)\n",
    "        self.params = read_yaml(params_path)\n",
    "\n",
    "        create_directories([self.config.artifacts_root])\n",
    "\n",
    "    def get_model_evaluation_config(self) -> ModelEvaluationConfig:\n",
    "        config = self.config.model_evaluation\n",
    "        create_directories([config.root_dir])\n",
    "\n",
    "        model_evaluation_config = ModelEvaluationConfig(\n",
    "            root_dir = Path(config.root_dir),\n",
    "            test_transformed_dir = Path(config.test_transformed_dir),\n",
    "            model_dir = Path(config.model_dir),\n",
    "            evaluation_saved = Path(config.evaluation_saved)\n",
    "        )\n",
    "\n",
    "        return model_evaluation_config"
   ]
  },
  {
   "cell_type": "code",
   "execution_count": 16,
   "metadata": {},
   "outputs": [],
   "source": [
    "import joblib\n",
    "import pandas as pd\n",
    "from sentimentAnalyzer.utils.common import load_transformed_data_file, DataInfo\n",
    "from sentimentAnalyzer.logging import logger\n",
    "from sklearn.metrics import classification_report, accuracy_score, precision_score, recall_score, f1_score"
   ]
  },
  {
   "cell_type": "code",
   "execution_count": 17,
   "metadata": {},
   "outputs": [],
   "source": [
    "class ModelEvaluation:\n",
    "    def __init__(self, config: ModelEvaluationConfig):\n",
    "        self.config = config\n",
    "\n",
    "    def evaluate(self):\n",
    "        X_test, y_test = load_transformed_data_file(path=self.config.test_transformed_dir, \n",
    "                                                    data_info=DataInfo.TESTING)\n",
    "        \n",
    "        # Loading Models\n",
    "        lrmodel = joblib.load(self.config.model_dir)\n",
    "        logger.info(f\"Trained Model imported from {self.config.model_dir}\")\n",
    "\n",
    "        # Classification Report\n",
    "        y_pred = lrmodel.predict(X_test)\n",
    "        print(f\">>>>>>> Classifiaction Report <<<<<<< \\n{classification_report(y_test, y_pred)}\")\n",
    "\n",
    "        # Saving Evaluation Result\n",
    "        metrices = {\n",
    "            \"Accuracy\": accuracy_score(y_test, y_pred),\n",
    "            \"Precision\": precision_score(y_test, y_pred),\n",
    "            \"Recall\": recall_score(y_test, y_pred),\n",
    "            \"F1 Score\": f1_score(y_test, y_pred),\n",
    "        }\n",
    "\n",
    "        # Save metrics to a CSV\n",
    "        metrics_df = pd.DataFrame(list(metrices.items()), columns=[\"Metric\", \"Value\"])\n",
    "        metrics_df.to_csv(self.config.evaluation_saved, index=False)\n",
    "        logger.info(f\"Model Performance Metrices stored at {self.config.evaluation_saved}\")\n"
   ]
  },
  {
   "cell_type": "code",
   "execution_count": 18,
   "metadata": {},
   "outputs": [
    {
     "name": "stdout",
     "output_type": "stream",
     "text": [
      "[2025-01-04 21:16:43,869: INFO: common: yaml file: config\\config.yaml loaded successfully]\n",
      "[2025-01-04 21:16:43,872: INFO: common: yaml file: params.yaml loaded successfully]\n",
      "[2025-01-04 21:16:43,874: INFO: common: created directory at: artifacts]\n",
      "[2025-01-04 21:16:43,875: INFO: common: created directory at: artifacts/model_evaluation]\n",
      "[2025-01-04 21:16:44,125: INFO: common: Input Transformed Testing Data has been load from artifacts\\data_transformation\\test\\X_test.npz]\n",
      "[2025-01-04 21:16:44,129: INFO: common: Output Transformed Testing Data is load from artifacts\\data_transformation\\test\\y_test.npy]\n",
      "[2025-01-04 21:16:44,154: INFO: 3954773557: Trained Model imported from artifacts\\train_model\\trained_model.pkl]\n",
      ">>>>>>> Classifiaction Report <<<<<<< \n",
      "              precision    recall  f1-score   support\n",
      "\n",
      "           0       0.80      0.78      0.79    159494\n",
      "           1       0.79      0.81      0.80    160506\n",
      "\n",
      "    accuracy                           0.80    320000\n",
      "   macro avg       0.80      0.80      0.80    320000\n",
      "weighted avg       0.80      0.80      0.80    320000\n",
      "\n",
      "[2025-01-04 21:16:44,369: INFO: 3954773557: Model Performance Metrices stored at artifacts\\model_evaluation\\metrics.csv]\n"
     ]
    }
   ],
   "source": [
    "try:\n",
    "    config = ConfigurationManager()\n",
    "    model_evaluation_config = config.get_model_evaluation_config()\n",
    "    model_evaluation = ModelEvaluation(config=model_evaluation_config)\n",
    "    model_evaluation.evaluate()\n",
    "except Exception as e:\n",
    "    raise e"
   ]
  },
  {
   "cell_type": "code",
   "execution_count": null,
   "metadata": {},
   "outputs": [],
   "source": []
  }
 ],
 "metadata": {
  "kernelspec": {
   "display_name": "env",
   "language": "python",
   "name": "python3"
  },
  "language_info": {
   "codemirror_mode": {
    "name": "ipython",
    "version": 3
   },
   "file_extension": ".py",
   "mimetype": "text/x-python",
   "name": "python",
   "nbconvert_exporter": "python",
   "pygments_lexer": "ipython3",
   "version": "3.12.4"
  }
 },
 "nbformat": 4,
 "nbformat_minor": 2
}
