{
 "cells": [
  {
   "cell_type": "code",
   "execution_count": 1,
   "metadata": {},
   "outputs": [],
   "source": [
    "import os"
   ]
  },
  {
   "cell_type": "code",
   "execution_count": 2,
   "metadata": {},
   "outputs": [],
   "source": [
    "os.chdir(\"../\")"
   ]
  },
  {
   "cell_type": "code",
   "execution_count": 3,
   "metadata": {},
   "outputs": [
    {
     "data": {
      "text/plain": [
       "'d:\\\\CDAC\\\\Machine Learning\\\\sentiment-analyzer'"
      ]
     },
     "execution_count": 3,
     "metadata": {},
     "output_type": "execute_result"
    }
   ],
   "source": [
    "%pwd"
   ]
  },
  {
   "cell_type": "code",
   "execution_count": 4,
   "metadata": {},
   "outputs": [],
   "source": [
    "from pathlib import Path\n",
    "from dataclasses import dataclass"
   ]
  },
  {
   "cell_type": "code",
   "execution_count": 22,
   "metadata": {},
   "outputs": [],
   "source": [
    "import joblib\n",
    "from sentimentAnalyzer.logging import logger\n",
    "from sentimentAnalyzer.component.data_transformation import DataTransformation\n",
    "from sentimentAnalyzer.config.configuration import ConfigurationManager\n",
    "from sentimentAnalyzer.component.data_transformation import DataTransformation\n",
    "from sentimentAnalyzer.entity import UserPredictionConfig"
   ]
  },
  {
   "cell_type": "code",
   "execution_count": 17,
   "metadata": {},
   "outputs": [],
   "source": [
    "class PredictionPipeline:\n",
    "    def __init__(self, config: UserPredictionConfig):\n",
    "        self.config = config\n",
    "        config = ConfigurationManager()\n",
    "        data_transformation_config = config.get_data_transformation_config()\n",
    "        self.data_validation = DataTransformation(config=data_transformation_config)\n",
    "\n",
    "    def predict(self, text):\n",
    "        lrmodel = joblib.load(self.config.model_dir)\n",
    "        logger.info(f\"Trained Model Loaded from {self.config.model_dir}\")\n",
    "\n",
    "        # Text Pre-processing\n",
    "        text = self.data_validation.lower_case_converter(text)\n",
    "        text = self.data_validation.basic_remove_process(text)\n",
    "        text = self.data_validation.text_tokenizer(text)\n",
    "        text = self.data_validation.stop_word_removal(text)\n",
    "        text = self.data_validation.text_stemmer(text)\n",
    "\n",
    "        text_func = lambda text: ' '.join(text) if isinstance(text, list) else text\n",
    "        text = text_func(text)\n",
    "\n",
    "        # Loading the Vectoriser\n",
    "        vectoriser = joblib.load(self.config.vectoriser_dir)\n",
    "        transformed_text = vectoriser.transform([text])\n",
    "        logger.info(f\"User Text Pre-processed Successfully\")\n",
    "\n",
    "        final_output = lrmodel.predict(transformed_text)\n",
    "\n",
    "        # Returing the Sentiment\n",
    "        sentiment = \"\"\n",
    "        if final_output == 0:\n",
    "            sentiment = 'Negative'\n",
    "        else:\n",
    "            sentiment = 'Positive'\n",
    "\n",
    "        return sentiment\n",
    "\n",
    "    "
   ]
  },
  {
   "cell_type": "code",
   "execution_count": 20,
   "metadata": {},
   "outputs": [
    {
     "name": "stdout",
     "output_type": "stream",
     "text": [
      "[2025-01-04 23:01:05,081: INFO: common: yaml file: config\\config.yaml loaded successfully]\n",
      "[2025-01-04 23:01:05,085: INFO: common: yaml file: params.yaml loaded successfully]\n",
      "[2025-01-04 23:01:05,086: INFO: common: created directory at: artifacts]\n",
      "[2025-01-04 23:01:05,090: INFO: common: yaml file: config\\config.yaml loaded successfully]\n",
      "[2025-01-04 23:01:05,092: INFO: common: yaml file: params.yaml loaded successfully]\n",
      "[2025-01-04 23:01:05,094: INFO: common: created directory at: artifacts]\n",
      "[2025-01-04 23:01:05,095: INFO: common: created directory at: artifacts/data_transformation]\n",
      "[2025-01-04 23:01:05,095: INFO: common: created directory at: artifacts/data_transformation/train]\n",
      "[2025-01-04 23:01:05,097: INFO: common: created directory at: artifacts/data_transformation/test]\n",
      "[2025-01-04 23:01:05,098: INFO: common: created directory at: artifacts/vectoriser_model]\n",
      "[2025-01-04 23:01:05,101: INFO: 316722833: Trained Model Loaded from artifacts/train_model/trained_model.pkl]\n",
      "[2025-01-04 23:01:06,653: INFO: 316722833: User Text Pre-processed Successfully]\n"
     ]
    }
   ],
   "source": [
    "try:\n",
    "    config = ConfigurationManager()\n",
    "    prediction_config = config.get_user_prediction_config()\n",
    "    prediction = PredictionPipeline(config=prediction_config)\n",
    "    text = \"\"\"ErinCalderon\",\"I realized today,that Ive been hated on alot this year, from the people I would least expect it from.  IM happy and that's what matters. \"\"\"\n",
    "    result = prediction.predict(text)\n",
    "except Exception as e:\n",
    "    raise e"
   ]
  },
  {
   "cell_type": "code",
   "execution_count": 21,
   "metadata": {},
   "outputs": [
    {
     "data": {
      "text/plain": [
       "'Positive'"
      ]
     },
     "execution_count": 21,
     "metadata": {},
     "output_type": "execute_result"
    }
   ],
   "source": [
    "result"
   ]
  },
  {
   "cell_type": "code",
   "execution_count": 23,
   "metadata": {},
   "outputs": [],
   "source": [
    "from sentimentAnalyzer.pipeline.prediction import PredictionPipeline"
   ]
  },
  {
   "cell_type": "code",
   "execution_count": 24,
   "metadata": {},
   "outputs": [
    {
     "name": "stdout",
     "output_type": "stream",
     "text": [
      "[2025-01-04 23:06:47,444: INFO: common: yaml file: config\\config.yaml loaded successfully]\n",
      "[2025-01-04 23:06:47,447: INFO: common: yaml file: params.yaml loaded successfully]\n",
      "[2025-01-04 23:06:47,449: INFO: common: created directory at: artifacts]\n",
      "[2025-01-04 23:06:47,450: INFO: common: created directory at: artifacts/data_transformation]\n",
      "[2025-01-04 23:06:47,451: INFO: common: created directory at: artifacts/data_transformation/train]\n",
      "[2025-01-04 23:06:47,452: INFO: common: created directory at: artifacts/data_transformation/test]\n",
      "[2025-01-04 23:06:47,453: INFO: common: created directory at: artifacts/vectoriser_model]\n"
     ]
    }
   ],
   "source": [
    "pred_in = PredictionPipeline()"
   ]
  },
  {
   "cell_type": "code",
   "execution_count": 25,
   "metadata": {},
   "outputs": [
    {
     "name": "stdout",
     "output_type": "stream",
     "text": [
      "[2025-01-04 23:07:22,774: INFO: prediction: Trained Model Loaded from artifacts/train_model/trained_model.pkl]\n",
      "[2025-01-04 23:07:24,390: INFO: prediction: User Text Pre-processed Successfully]\n"
     ]
    },
    {
     "data": {
      "text/plain": [
       "'Positive'"
      ]
     },
     "execution_count": 25,
     "metadata": {},
     "output_type": "execute_result"
    }
   ],
   "source": [
    "result = pred_in.predict(text)\n",
    "result"
   ]
  },
  {
   "cell_type": "code",
   "execution_count": null,
   "metadata": {},
   "outputs": [],
   "source": []
  }
 ],
 "metadata": {
  "kernelspec": {
   "display_name": "env",
   "language": "python",
   "name": "python3"
  },
  "language_info": {
   "codemirror_mode": {
    "name": "ipython",
    "version": 3
   },
   "file_extension": ".py",
   "mimetype": "text/x-python",
   "name": "python",
   "nbconvert_exporter": "python",
   "pygments_lexer": "ipython3",
   "version": "3.12.4"
  }
 },
 "nbformat": 4,
 "nbformat_minor": 2
}
