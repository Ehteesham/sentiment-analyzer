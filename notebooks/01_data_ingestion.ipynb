{
 "cells": [
  {
   "cell_type": "code",
   "execution_count": 1,
   "metadata": {},
   "outputs": [],
   "source": [
    "import os\n",
    "from pathlib import Path"
   ]
  },
  {
   "cell_type": "code",
   "execution_count": 2,
   "metadata": {},
   "outputs": [
    {
     "data": {
      "text/plain": [
       "'d:\\\\CDAC\\\\Machine Learning\\\\sentiment-analyzer\\\\notebooks'"
      ]
     },
     "execution_count": 2,
     "metadata": {},
     "output_type": "execute_result"
    }
   ],
   "source": [
    "%pwd"
   ]
  },
  {
   "cell_type": "code",
   "execution_count": 3,
   "metadata": {},
   "outputs": [],
   "source": [
    "os.chdir(\"../\")"
   ]
  },
  {
   "cell_type": "code",
   "execution_count": 4,
   "metadata": {},
   "outputs": [
    {
     "data": {
      "text/plain": [
       "'d:\\\\CDAC\\\\Machine Learning\\\\sentiment-analyzer'"
      ]
     },
     "execution_count": 4,
     "metadata": {},
     "output_type": "execute_result"
    }
   ],
   "source": [
    "%pwd"
   ]
  },
  {
   "cell_type": "code",
   "execution_count": 22,
   "metadata": {},
   "outputs": [],
   "source": [
    "from dataclasses import dataclass"
   ]
  },
  {
   "cell_type": "code",
   "execution_count": 23,
   "metadata": {},
   "outputs": [],
   "source": [
    "@dataclass(frozen=True)\n",
    "class DataIngestionConfig:\n",
    "    root_dir: Path\n",
    "    source_dir: Path\n",
    "    unzip_dir: Path\n",
    "    dataset_file: Path\n",
    "    train_data_dir: Path\n",
    "    test_data_dir: Path\n",
    "    encoding: str\n",
    "    train_size: int\n",
    "    test_size: int"
   ]
  },
  {
   "cell_type": "code",
   "execution_count": 24,
   "metadata": {},
   "outputs": [],
   "source": [
    "from sentimentAnalyzer.constant import *\n",
    "from sentimentAnalyzer.utils.common import read_yaml, create_directories"
   ]
  },
  {
   "cell_type": "code",
   "execution_count": 25,
   "metadata": {},
   "outputs": [],
   "source": [
    "class ConfigurationManager:\n",
    "    def __init__(self, config_path = CONFIG_FILE_PATH, params_path = PARAMS_FILE_PATH):\n",
    "        self.config = read_yaml(config_path)\n",
    "        self.params = read_yaml(params_path)\n",
    "\n",
    "        create_directories([self.config.artifacts_root])\n",
    "\n",
    "    def get_data_ingestion_config(self) -> DataIngestionConfig:\n",
    "        config = self.config.data_ingestion\n",
    "        dataset = self.params.dataset\n",
    "        create_directories([config.root_dir])\n",
    "        create_directories([config.train_data_dir])\n",
    "        create_directories([config.test_data_dir])\n",
    "\n",
    "        data_ingestion_config = DataIngestionConfig(\n",
    "            root_dir = config.root_dir,\n",
    "            source_dir = config.source_dir,\n",
    "            unzip_dir = config.unzip_dir,\n",
    "            dataset_file = config.dataset_file,\n",
    "            train_data_dir = config.train_data_dir,\n",
    "            test_data_dir = config.test_data_dir,\n",
    "            encoding = dataset.data_encoding,\n",
    "            train_size = dataset.train_size,\n",
    "            test_size = dataset.test_size \n",
    "        )\n",
    "\n",
    "        return data_ingestion_config\n"
   ]
  },
  {
   "cell_type": "code",
   "execution_count": 26,
   "metadata": {},
   "outputs": [],
   "source": [
    "import os\n",
    "import zipfile\n",
    "from sentimentAnalyzer.logging import logger\n",
    "from sentimentAnalyzer.utils.common import read_dataset"
   ]
  },
  {
   "cell_type": "code",
   "execution_count": 27,
   "metadata": {},
   "outputs": [],
   "source": [
    "import pandas as pd\n",
    "from sklearn.model_selection import train_test_split"
   ]
  },
  {
   "cell_type": "code",
   "execution_count": 28,
   "metadata": {},
   "outputs": [],
   "source": [
    "class DataIngestion:\n",
    "    def __init__(self, config: DataIngestionConfig):\n",
    "        self.config = config\n",
    "\n",
    "    def extract_zip_file(self):\n",
    "        unzip_path = self.config.unzip_dir\n",
    "        os.makedirs(unzip_path, exist_ok=True)\n",
    "        with zipfile.ZipFile(self.config.source_dir, 'r') as zip_file:\n",
    "            zip_file.extractall(unzip_path)\n",
    "        \n",
    "    def split_dataset(self):\n",
    "        dataset_path = Path(self.config.dataset_file)\n",
    "        encoding = self.config.encoding\n",
    "        df = read_dataset(path=dataset_path, encoding=encoding)\n",
    "        train_data, test_data = train_test_split(df,\n",
    "                                                 train_size=self.config.train_size,\n",
    "                                                 test_size=self.config.test_size,\n",
    "                                                 random_state=42)\n",
    "\n",
    "        train_data.to_csv(f\"{self.config.train_data_dir}/train.csv\", index = False)\n",
    "        logger.info(f\"Train Data has been stored at {self.config.train_data_dir}/train.csv\")\n",
    "        test_data.to_csv(f\"{self.config.test_data_dir}/test.csv\", index = False)\n",
    "        logger.info(f\"Test Data has been stored at {self.config.test_data_dir}/test.csv\")\n",
    "        \n",
    "        \n"
   ]
  },
  {
   "cell_type": "code",
   "execution_count": 29,
   "metadata": {},
   "outputs": [
    {
     "name": "stdout",
     "output_type": "stream",
     "text": [
      "[2025-01-02 00:28:38,424: INFO: common: yaml file: config\\config.yaml loaded successfully]\n",
      "[2025-01-02 00:28:38,426: INFO: common: yaml file: params.yaml loaded successfully]\n",
      "[2025-01-02 00:28:38,427: INFO: common: created directory at: artifacts]\n",
      "[2025-01-02 00:28:38,430: INFO: common: created directory at: artifacts/data_ingestion]\n",
      "[2025-01-02 00:28:38,430: INFO: common: created directory at: artifacts/data_ingestion/train]\n",
      "[2025-01-02 00:28:38,430: INFO: common: created directory at: artifacts/data_ingestion/test]\n",
      "[2025-01-02 00:28:40,353: INFO: common: Reading dataset from path: artifacts\\data_ingestion\\raw.csv]\n",
      "[2025-01-02 00:28:45,695: INFO: common: Dataset loaded successfully with 1600000 rows and 6 columns.]\n",
      "[2025-01-02 00:28:55,686: INFO: 2467245859: Train Data has been stored at artifacts/data_ingestion/train/train.csv]\n",
      "[2025-01-02 00:28:58,041: INFO: 2467245859: Test Data has been stored at artifacts/data_ingestion/test/test.csv]\n"
     ]
    }
   ],
   "source": [
    "try:\n",
    "    config = ConfigurationManager()\n",
    "    data_ingestion_config = config.get_data_ingestion_config()\n",
    "    data_ingestion = DataIngestion(config=data_ingestion_config)\n",
    "    data_ingestion.extract_zip_file()\n",
    "    data_ingestion.split_dataset()\n",
    "except Exception as e:\n",
    "    print(e)"
   ]
  },
  {
   "cell_type": "code",
   "execution_count": 13,
   "metadata": {},
   "outputs": [],
   "source": [
    "import pandas as pd\n",
    "from sklearn.model_selection import train_test_split"
   ]
  },
  {
   "cell_type": "code",
   "execution_count": 21,
   "metadata": {},
   "outputs": [
    {
     "data": {
      "text/plain": [
       "True"
      ]
     },
     "execution_count": 21,
     "metadata": {},
     "output_type": "execute_result"
    }
   ],
   "source": [
    "os.path.exists(data_ingestion_config.test_data_dir)"
   ]
  },
  {
   "cell_type": "code",
   "execution_count": null,
   "metadata": {},
   "outputs": [],
   "source": [
    "data_ingestion_config.dataset_file"
   ]
  },
  {
   "cell_type": "code",
   "execution_count": null,
   "metadata": {},
   "outputs": [],
   "source": []
  },
  {
   "cell_type": "code",
   "execution_count": null,
   "metadata": {},
   "outputs": [],
   "source": [
    "df = pd.read_csv(data_ingestion_config.dataset_file, encoding=\"ISO-8859-1\")\n",
    "df.head()"
   ]
  },
  {
   "cell_type": "code",
   "execution_count": 16,
   "metadata": {},
   "outputs": [],
   "source": [
    "from ensure import ensure_annotations"
   ]
  },
  {
   "cell_type": "code",
   "execution_count": 17,
   "metadata": {},
   "outputs": [],
   "source": [
    "@ensure_annotations\n",
    "def read_dataset(path: Path, encoding: str) -> pd.DataFrame:\n",
    "    \"\"\"\n",
    "    Reads a CSV dataset into a pandas DataFrame.\n",
    "\n",
    "    Args:\n",
    "        path (Path): The file path to the dataset.\n",
    "        encoding (str): The encoding format for the file. Defaults to 'utf-8'.\n",
    "\n",
    "    Returns:\n",
    "        pd.DataFrame: The loaded dataset.\n",
    "\n",
    "    Raises:\n",
    "        FileNotFoundError: If the file at the given path does not exist.\n",
    "        ValueError: If an error occurs during file reading.\n",
    "    \"\"\"\n",
    "    cols_name = [\"target\", \"ids\", \"date\", \"flag\", \"user\", \"text\"]\n",
    "    if not os.path.exists(path):\n",
    "        logger.error(f\"File not found at path: {path}\")\n",
    "        raise FileNotFoundError(f\"The file at {path} does not exist.\")\n",
    "    \n",
    "    try:\n",
    "        logger.info(f\"Reading dataset from path: {path}\")\n",
    "        df = pd.read_csv(path, encoding=encoding, names=cols_name)\n",
    "        logger.info(f\"Dataset loaded successfully with {df.shape[0]} rows and {df.shape[1]} columns.\")\n",
    "        return df\n",
    "    except Exception as e:\n",
    "        logger.error(f\"Error occurred while reading the dataset: {e}\")\n",
    "        raise ValueError(f\"Failed to read the dataset at {path}. Error: {e}\")"
   ]
  },
  {
   "cell_type": "code",
   "execution_count": null,
   "metadata": {},
   "outputs": [],
   "source": [
    "df_01 = read_dataset(Path(data_ingestion_config.dataset_file), encoding=data_ingestion_config.encoding)"
   ]
  },
  {
   "cell_type": "code",
   "execution_count": null,
   "metadata": {},
   "outputs": [],
   "source": [
    "df_01.head()"
   ]
  },
  {
   "cell_type": "code",
   "execution_count": null,
   "metadata": {},
   "outputs": [],
   "source": [
    "df_01.info()"
   ]
  },
  {
   "cell_type": "code",
   "execution_count": 21,
   "metadata": {},
   "outputs": [],
   "source": [
    "X = df_01.iloc[:,1:]\n",
    "y = df_01.iloc[:,0]"
   ]
  },
  {
   "cell_type": "code",
   "execution_count": null,
   "metadata": {},
   "outputs": [],
   "source": [
    "y.head()"
   ]
  },
  {
   "cell_type": "code",
   "execution_count": null,
   "metadata": {},
   "outputs": [],
   "source": [
    "X.head()"
   ]
  },
  {
   "cell_type": "code",
   "execution_count": null,
   "metadata": {},
   "outputs": [],
   "source": [
    "data_ingestion_config.train_set"
   ]
  },
  {
   "cell_type": "code",
   "execution_count": 30,
   "metadata": {},
   "outputs": [],
   "source": [
    "X_train, X_test = train_test_split(df_01,test_size=data_ingestion_config.test_size, random_state=40)"
   ]
  },
  {
   "cell_type": "code",
   "execution_count": null,
   "metadata": {},
   "outputs": [],
   "source": [
    "X_train.head()"
   ]
  },
  {
   "cell_type": "code",
   "execution_count": 179,
   "metadata": {},
   "outputs": [],
   "source": [
    "new_df = pd.concat([X_train, y_train], axis=1)"
   ]
  },
  {
   "cell_type": "code",
   "execution_count": null,
   "metadata": {},
   "outputs": [],
   "source": [
    "new_df"
   ]
  },
  {
   "cell_type": "code",
   "execution_count": 183,
   "metadata": {},
   "outputs": [],
   "source": [
    "new_df.to_csv(\"train.csv\", index=False)"
   ]
  },
  {
   "cell_type": "code",
   "execution_count": null,
   "metadata": {},
   "outputs": [],
   "source": [
    "X_train.shape"
   ]
  },
  {
   "cell_type": "code",
   "execution_count": null,
   "metadata": {},
   "outputs": [],
   "source": [
    "X_test.shape"
   ]
  },
  {
   "cell_type": "code",
   "execution_count": null,
   "metadata": {},
   "outputs": [],
   "source": [
    "type(X_train)"
   ]
  },
  {
   "cell_type": "code",
   "execution_count": null,
   "metadata": {},
   "outputs": [],
   "source": []
  }
 ],
 "metadata": {
  "kernelspec": {
   "display_name": "env",
   "language": "python",
   "name": "python3"
  },
  "language_info": {
   "codemirror_mode": {
    "name": "ipython",
    "version": 3
   },
   "file_extension": ".py",
   "mimetype": "text/x-python",
   "name": "python",
   "nbconvert_exporter": "python",
   "pygments_lexer": "ipython3",
   "version": "3.12.4"
  }
 },
 "nbformat": 4,
 "nbformat_minor": 2
}
